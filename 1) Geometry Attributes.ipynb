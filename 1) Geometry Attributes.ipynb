{
 "cells": [
  {
   "cell_type": "markdown",
   "id": "special-harassment",
   "metadata": {},
   "source": [
    "# 1. Geometry Attributes"
   ]
  },
  {
   "cell_type": "markdown",
   "id": "becoming-perspective",
   "metadata": {},
   "source": [
    "## 1.1 Points"
   ]
  },
  {
   "cell_type": "code",
   "execution_count": 1,
   "id": "least-given",
   "metadata": {},
   "outputs": [],
   "source": [
    "# import geometries\n",
    "from shapely.geometry import Point, Polygon, LineString"
   ]
  },
  {
   "cell_type": "code",
   "execution_count": 2,
   "id": "interim-lying",
   "metadata": {},
   "outputs": [],
   "source": [
    "# create points\n",
    "point1 = Point(2.04, 45.31)\n",
    "point2 = Point(57.70, 1.97)\n",
    "point3 = Point(40.59, -74.12)\n",
    "point4 = Point(-1.81, -47.87)"
   ]
  },
  {
   "cell_type": "code",
   "execution_count": 3,
   "id": "occasional-edwards",
   "metadata": {},
   "outputs": [
    {
     "data": {
      "image/svg+xml": [
       "<svg xmlns=\"http://www.w3.org/2000/svg\" xmlns:xlink=\"http://www.w3.org/1999/xlink\" width=\"100.0\" height=\"100.0\" viewBox=\"56.7 0.97 2.0 1.9999999999999998\" preserveAspectRatio=\"xMinYMin meet\"><g transform=\"matrix(1,0,0,-1,0,3.9399999999999995)\"><circle cx=\"57.7\" cy=\"1.97\" r=\"0.06\" stroke=\"#555555\" stroke-width=\"0.02\" fill=\"#66cc99\" opacity=\"0.6\" /></g></svg>"
      ],
      "text/plain": [
       "<shapely.geometry.point.Point at 0x10a0e0f10>"
      ]
     },
     "execution_count": 3,
     "metadata": {},
     "output_type": "execute_result"
    }
   ],
   "source": [
    "point2"
   ]
  },
  {
   "cell_type": "code",
   "execution_count": 11,
   "id": "casual-soccer",
   "metadata": {},
   "outputs": [
    {
     "name": "stdout",
     "output_type": "stream",
     "text": [
      "(array('d', [2.04]), array('d', [45.31]))\n",
      "2.04\n",
      "45.31\n"
     ]
    }
   ],
   "source": [
    "## the x, y coordinates (latitude, longitude)\n",
    "\n",
    "print(point1.coords.xy)\n",
    "print(point1.x)\n",
    "print(point1.y)"
   ]
  },
  {
   "cell_type": "code",
   "execution_count": 12,
   "id": "judicial-texture",
   "metadata": {},
   "outputs": [
    {
     "name": "stdout",
     "output_type": "stream",
     "text": [
      "0.0\n"
     ]
    }
   ],
   "source": [
    "# a point has no length\n",
    "\n",
    "print(point1.length)"
   ]
  },
  {
   "cell_type": "code",
   "execution_count": 13,
   "id": "sticky-promotion",
   "metadata": {},
   "outputs": [
    {
     "name": "stdout",
     "output_type": "stream",
     "text": [
      "0.0\n"
     ]
    }
   ],
   "source": [
    "# points have no area\n",
    "\n",
    "print(point1.area)"
   ]
  },
  {
   "cell_type": "code",
   "execution_count": 14,
   "id": "occupational-muslim",
   "metadata": {},
   "outputs": [
    {
     "name": "stdout",
     "output_type": "stream",
     "text": [
      "(2.04, 45.31, 2.04, 45.31)\n"
     ]
    }
   ],
   "source": [
    "# a point has a x-y bounding box (min x, min y, max x, max y) tuple\n",
    "\n",
    "print(point1.bounds)"
   ]
  },
  {
   "cell_type": "markdown",
   "id": "imposed-pakistan",
   "metadata": {},
   "source": [
    "## 1.2 LineString"
   ]
  },
  {
   "cell_type": "code",
   "execution_count": 17,
   "id": "fewer-accuracy",
   "metadata": {},
   "outputs": [
    {
     "data": {
      "image/svg+xml": [
       "<svg xmlns=\"http://www.w3.org/2000/svg\" xmlns:xlink=\"http://www.w3.org/1999/xlink\" width=\"100.0\" height=\"128.9844\" viewBox=\"-2.7372000000000005 -78.8972 65.2144 128.9844\" preserveAspectRatio=\"xMinYMin meet\"><g transform=\"matrix(1,0,0,-1,0,-28.809999999999995)\"><polyline fill=\"none\" stroke=\"#66cc99\" stroke-width=\"2.0\" points=\"2.04,45.31 57.7,1.97 40.59,-74.12\" opacity=\"0.8\" /></g></svg>"
      ],
      "text/plain": [
       "<shapely.geometry.linestring.LineString at 0x10a1a6460>"
      ]
     },
     "execution_count": 17,
     "metadata": {},
     "output_type": "execute_result"
    }
   ],
   "source": [
    "# create LineString\n",
    "\n",
    "line = LineString([point1, point2, point3])\n",
    "line"
   ]
  },
  {
   "cell_type": "code",
   "execution_count": 18,
   "id": "fluid-technology",
   "metadata": {},
   "outputs": [
    {
     "name": "stdout",
     "output_type": "stream",
     "text": [
      "(array('d', [2.04, 57.7, 40.59]), array('d', [45.31, 1.97, -74.12]))\n"
     ]
    }
   ],
   "source": [
    "# coordinates\n",
    "\n",
    "print(line.coords.xy)"
   ]
  },
  {
   "cell_type": "code",
   "execution_count": 19,
   "id": "piano-harmony",
   "metadata": {},
   "outputs": [
    {
     "data": {
      "text/plain": [
       "array('d', [2.04, 57.7, 40.59])"
      ]
     },
     "execution_count": 19,
     "metadata": {},
     "output_type": "execute_result"
    }
   ],
   "source": [
    "# x coordinates (latitudes)\n",
    "\n",
    "line.xy[0]"
   ]
  },
  {
   "cell_type": "code",
   "execution_count": 20,
   "id": "excited-lucas",
   "metadata": {},
   "outputs": [
    {
     "data": {
      "text/plain": [
       "array('d', [45.31, 1.97, -74.12])"
      ]
     },
     "execution_count": 20,
     "metadata": {},
     "output_type": "execute_result"
    }
   ],
   "source": [
    "# y coordinates (longitudes)\n",
    "\n",
    "line.xy[1]"
   ]
  },
  {
   "cell_type": "code",
   "execution_count": 21,
   "id": "industrial-vegetation",
   "metadata": {},
   "outputs": [
    {
     "name": "stdout",
     "output_type": "stream",
     "text": [
      "148.53354180541288\n"
     ]
    }
   ],
   "source": [
    "# a line has a length\n",
    "\n",
    "print(line.length)"
   ]
  },
  {
   "cell_type": "code",
   "execution_count": 22,
   "id": "individual-south",
   "metadata": {},
   "outputs": [
    {
     "name": "stdout",
     "output_type": "stream",
     "text": [
      "0.0\n"
     ]
    }
   ],
   "source": [
    "# a line has no area\n",
    "\n",
    "print(line.area)"
   ]
  },
  {
   "cell_type": "code",
   "execution_count": 25,
   "id": "excess-collective",
   "metadata": {},
   "outputs": [
    {
     "name": "stdout",
     "output_type": "stream",
     "text": [
      "POINT (39.9906585669835 -7.714351560436813)\n"
     ]
    },
    {
     "data": {
      "image/svg+xml": [
       "<svg xmlns=\"http://www.w3.org/2000/svg\" xmlns:xlink=\"http://www.w3.org/1999/xlink\" width=\"100.0\" height=\"100.0\" viewBox=\"38.9906585669835 -8.714351560436814 2.0 2.000000000000001\" preserveAspectRatio=\"xMinYMin meet\"><g transform=\"matrix(1,0,0,-1,0,-15.428703120873628)\"><circle cx=\"39.9906585669835\" cy=\"-7.714351560436813\" r=\"0.060000000000000026\" stroke=\"#555555\" stroke-width=\"0.020000000000000007\" fill=\"#66cc99\" opacity=\"0.6\" /></g></svg>"
      ],
      "text/plain": [
       "<shapely.geometry.point.Point at 0x10a1a6970>"
      ]
     },
     "execution_count": 25,
     "metadata": {},
     "output_type": "execute_result"
    }
   ],
   "source": [
    "# centroid\n",
    "\n",
    "print(line.centroid)\n",
    "\n",
    "line.centroid"
   ]
  },
  {
   "cell_type": "markdown",
   "id": "persistent-consciousness",
   "metadata": {},
   "source": [
    "## 1.3 Polygons"
   ]
  },
  {
   "cell_type": "code",
   "execution_count": 26,
   "id": "married-proposal",
   "metadata": {},
   "outputs": [],
   "source": [
    "# creating polygons\n",
    "\n",
    "polygon = Polygon([point1, point2, point3, point4])"
   ]
  },
  {
   "cell_type": "code",
   "execution_count": 27,
   "id": "billion-diana",
   "metadata": {},
   "outputs": [
    {
     "data": {
      "image/svg+xml": [
       "<svg xmlns=\"http://www.w3.org/2000/svg\" xmlns:xlink=\"http://www.w3.org/1999/xlink\" width=\"100.0\" height=\"128.9844\" viewBox=\"-6.587200000000001 -78.8972 69.0644 128.9844\" preserveAspectRatio=\"xMinYMin meet\"><g transform=\"matrix(1,0,0,-1,0,-28.809999999999995)\"><path fill-rule=\"evenodd\" fill=\"#66cc99\" stroke=\"#555555\" stroke-width=\"2.0\" opacity=\"0.6\" d=\"M 2.04,45.31 L 57.7,1.97 L 40.59,-74.12 L -1.81,-47.87 L 2.04,45.31 z\" /></g></svg>"
      ],
      "text/plain": [
       "<shapely.geometry.polygon.Polygon at 0x10a0e0c40>"
      ]
     },
     "execution_count": 27,
     "metadata": {},
     "output_type": "execute_result"
    }
   ],
   "source": [
    "polygon"
   ]
  },
  {
   "cell_type": "code",
   "execution_count": 35,
   "id": "related-measure",
   "metadata": {},
   "outputs": [
    {
     "name": "stdout",
     "output_type": "stream",
     "text": [
      "[(2.04, 45.31), (57.7, 1.97), (40.59, -74.12), (-1.81, -47.87), (2.04, 45.31)]\n"
     ]
    },
    {
     "data": {
      "image/svg+xml": [
       "<svg xmlns=\"http://www.w3.org/2000/svg\" xmlns:xlink=\"http://www.w3.org/1999/xlink\" width=\"100.0\" height=\"128.9844\" viewBox=\"-6.587200000000001 -78.8972 69.0644 128.9844\" preserveAspectRatio=\"xMinYMin meet\"><g transform=\"matrix(1,0,0,-1,0,-28.809999999999995)\"><polyline fill=\"none\" stroke=\"#66cc99\" stroke-width=\"2.0\" points=\"2.04,45.31 57.7,1.97 40.59,-74.12 -1.81,-47.87 2.04,45.31\" opacity=\"0.8\" /></g></svg>"
      ],
      "text/plain": [
       "<shapely.geometry.polygon.LinearRing at 0x10a1a6cd0>"
      ]
     },
     "execution_count": 35,
     "metadata": {},
     "output_type": "execute_result"
    }
   ],
   "source": [
    "# polygons do not have coordinates, but you can get the exterior\n",
    "\n",
    "print(list(polygon.exterior.coords))\n",
    "polygon.exterior"
   ]
  },
  {
   "cell_type": "code",
   "execution_count": 36,
   "id": "vanilla-cooperation",
   "metadata": {},
   "outputs": [
    {
     "name": "stdout",
     "output_type": "stream",
     "text": [
      "(-1.81, -74.12, 57.7, 45.31)\n"
     ]
    }
   ],
   "source": [
    "# bounds\n",
    "\n",
    "print(polygon.bounds)"
   ]
  },
  {
   "cell_type": "code",
   "execution_count": 37,
   "id": "religious-evening",
   "metadata": {},
   "outputs": [
    {
     "data": {
      "text/plain": [
       "4514.30565"
      ]
     },
     "execution_count": 37,
     "metadata": {},
     "output_type": "execute_result"
    }
   ],
   "source": [
    "# area of polygon (in degrees - unit of measurement depends on the projection)\n",
    "\n",
    "polygon.area"
   ]
  },
  {
   "cell_type": "code",
   "execution_count": 38,
   "id": "partial-uganda",
   "metadata": {},
   "outputs": [
    {
     "data": {
      "text/plain": [
       "291.6610957007827"
      ]
     },
     "execution_count": 38,
     "metadata": {},
     "output_type": "execute_result"
    }
   ],
   "source": [
    "# length\n",
    "\n",
    "polygon.length"
   ]
  },
  {
   "cell_type": "code",
   "execution_count": 39,
   "id": "cardiac-number",
   "metadata": {},
   "outputs": [
    {
     "data": {
      "image/svg+xml": [
       "<svg xmlns=\"http://www.w3.org/2000/svg\" xmlns:xlink=\"http://www.w3.org/1999/xlink\" width=\"100.0\" height=\"100.0\" viewBox=\"23.540958660829713 -17.40246155286362 2.0 2.0\" preserveAspectRatio=\"xMinYMin meet\"><g transform=\"matrix(1,0,0,-1,0,-32.80492310572724)\"><circle cx=\"24.540958660829713\" cy=\"-16.40246155286362\" r=\"0.06\" stroke=\"#555555\" stroke-width=\"0.02\" fill=\"#66cc99\" opacity=\"0.6\" /></g></svg>"
      ],
      "text/plain": [
       "<shapely.geometry.point.Point at 0x10808d580>"
      ]
     },
     "execution_count": 39,
     "metadata": {},
     "output_type": "execute_result"
    }
   ],
   "source": [
    "# centroid\n",
    "\n",
    "polygon.centroid"
   ]
  }
 ],
 "metadata": {
  "kernelspec": {
   "display_name": "Python 3",
   "language": "python",
   "name": "python3"
  },
  "language_info": {
   "codemirror_mode": {
    "name": "ipython",
    "version": 3
   },
   "file_extension": ".py",
   "mimetype": "text/x-python",
   "name": "python",
   "nbconvert_exporter": "python",
   "pygments_lexer": "ipython3",
   "version": "3.8.5"
  }
 },
 "nbformat": 4,
 "nbformat_minor": 5
}
