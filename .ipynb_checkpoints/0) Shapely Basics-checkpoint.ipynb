{
 "cells": [
  {
   "cell_type": "markdown",
   "id": "collected-vision",
   "metadata": {},
   "source": [
    "## Points"
   ]
  },
  {
   "cell_type": "code",
   "execution_count": 1,
   "id": "charitable-convenience",
   "metadata": {},
   "outputs": [],
   "source": [
    "from shapely.geometry import Point"
   ]
  },
  {
   "cell_type": "code",
   "execution_count": 6,
   "id": "compatible-borough",
   "metadata": {},
   "outputs": [],
   "source": [
    "point1 = Point(2.04, 45.31)"
   ]
  },
  {
   "cell_type": "code",
   "execution_count": 5,
   "id": "fitting-basket",
   "metadata": {},
   "outputs": [
    {
     "data": {
      "image/svg+xml": [
       "<svg xmlns=\"http://www.w3.org/2000/svg\" xmlns:xlink=\"http://www.w3.org/1999/xlink\" width=\"100.0\" height=\"100.0\" viewBox=\"1.04 414.31 2.0 2.0\" preserveAspectRatio=\"xMinYMin meet\"><g transform=\"matrix(1,0,0,-1,0,830.62)\"><circle cx=\"2.04\" cy=\"415.31\" r=\"0.06\" stroke=\"#555555\" stroke-width=\"0.02\" fill=\"#66cc99\" opacity=\"0.6\" /></g></svg>"
      ],
      "text/plain": [
       "<shapely.geometry.point.Point at 0x10a21a100>"
      ]
     },
     "execution_count": 5,
     "metadata": {},
     "output_type": "execute_result"
    }
   ],
   "source": [
    "point1"
   ]
  },
  {
   "cell_type": "code",
   "execution_count": 7,
   "id": "varied-throat",
   "metadata": {},
   "outputs": [],
   "source": [
    "point2 = Point(57.70, 1.97)"
   ]
  },
  {
   "cell_type": "code",
   "execution_count": 8,
   "id": "british-syracuse",
   "metadata": {},
   "outputs": [
    {
     "data": {
      "image/svg+xml": [
       "<svg xmlns=\"http://www.w3.org/2000/svg\" xmlns:xlink=\"http://www.w3.org/1999/xlink\" width=\"100.0\" height=\"100.0\" viewBox=\"56.7 0.97 2.0 1.9999999999999998\" preserveAspectRatio=\"xMinYMin meet\"><g transform=\"matrix(1,0,0,-1,0,3.9399999999999995)\"><circle cx=\"57.7\" cy=\"1.97\" r=\"0.06\" stroke=\"#555555\" stroke-width=\"0.02\" fill=\"#66cc99\" opacity=\"0.6\" /></g></svg>"
      ],
      "text/plain": [
       "<shapely.geometry.point.Point at 0x10a21aa00>"
      ]
     },
     "execution_count": 8,
     "metadata": {},
     "output_type": "execute_result"
    }
   ],
   "source": [
    "point2"
   ]
  },
  {
   "cell_type": "markdown",
   "id": "tropical-disabled",
   "metadata": {},
   "source": [
    "## LineStrings"
   ]
  },
  {
   "cell_type": "code",
   "execution_count": 9,
   "id": "split-eight",
   "metadata": {},
   "outputs": [],
   "source": [
    "from shapely.geometry import LineString"
   ]
  },
  {
   "cell_type": "code",
   "execution_count": 11,
   "id": "tight-franchise",
   "metadata": {},
   "outputs": [],
   "source": [
    "line1 = LineString([point1, point2])"
   ]
  },
  {
   "cell_type": "code",
   "execution_count": 12,
   "id": "spoken-candidate",
   "metadata": {},
   "outputs": [
    {
     "data": {
      "image/svg+xml": [
       "<svg xmlns=\"http://www.w3.org/2000/svg\" xmlns:xlink=\"http://www.w3.org/1999/xlink\" width=\"100.0\" height=\"100.0\" viewBox=\"-0.18640000000000034 -0.2564000000000004 60.1128 47.7928\" preserveAspectRatio=\"xMinYMin meet\"><g transform=\"matrix(1,0,0,-1,0,47.28)\"><polyline fill=\"none\" stroke=\"#66cc99\" stroke-width=\"1.202256\" points=\"2.04,45.31 57.7,1.97\" opacity=\"0.8\" /></g></svg>"
      ],
      "text/plain": [
       "<shapely.geometry.linestring.LineString at 0x1280b4d00>"
      ]
     },
     "execution_count": 12,
     "metadata": {},
     "output_type": "execute_result"
    }
   ],
   "source": [
    "line1"
   ]
  },
  {
   "cell_type": "code",
   "execution_count": 13,
   "id": "valued-nudist",
   "metadata": {},
   "outputs": [],
   "source": [
    "point3 = Point(40.59, -74.12)"
   ]
  },
  {
   "cell_type": "code",
   "execution_count": 14,
   "id": "provincial-pastor",
   "metadata": {},
   "outputs": [],
   "source": [
    "line2 = LineString([point1, point2, point3])"
   ]
  },
  {
   "cell_type": "code",
   "execution_count": 15,
   "id": "external-homework",
   "metadata": {},
   "outputs": [
    {
     "data": {
      "image/svg+xml": [
       "<svg xmlns=\"http://www.w3.org/2000/svg\" xmlns:xlink=\"http://www.w3.org/1999/xlink\" width=\"100.0\" height=\"128.9844\" viewBox=\"-2.7372000000000005 -78.8972 65.2144 128.9844\" preserveAspectRatio=\"xMinYMin meet\"><g transform=\"matrix(1,0,0,-1,0,-28.809999999999995)\"><polyline fill=\"none\" stroke=\"#66cc99\" stroke-width=\"2.0\" points=\"2.04,45.31 57.7,1.97 40.59,-74.12\" opacity=\"0.8\" /></g></svg>"
      ],
      "text/plain": [
       "<shapely.geometry.linestring.LineString at 0x1301754f0>"
      ]
     },
     "execution_count": 15,
     "metadata": {},
     "output_type": "execute_result"
    }
   ],
   "source": [
    "line2"
   ]
  },
  {
   "cell_type": "markdown",
   "id": "posted-witch",
   "metadata": {},
   "source": [
    "## Polygons"
   ]
  },
  {
   "cell_type": "code",
   "execution_count": 16,
   "id": "tutorial-acting",
   "metadata": {},
   "outputs": [],
   "source": [
    "from shapely.geometry import Polygon"
   ]
  },
  {
   "cell_type": "code",
   "execution_count": 17,
   "id": "equal-anatomy",
   "metadata": {},
   "outputs": [
    {
     "data": {
      "image/svg+xml": [
       "<svg xmlns=\"http://www.w3.org/2000/svg\" xmlns:xlink=\"http://www.w3.org/1999/xlink\" width=\"100.0\" height=\"128.9844\" viewBox=\"-2.7372000000000005 -78.8972 65.2144 128.9844\" preserveAspectRatio=\"xMinYMin meet\"><g transform=\"matrix(1,0,0,-1,0,-28.809999999999995)\"><path fill-rule=\"evenodd\" fill=\"#66cc99\" stroke=\"#555555\" stroke-width=\"2.0\" opacity=\"0.6\" d=\"M 2.04,45.31 L 57.7,1.97 L 40.59,-74.12 L 2.04,45.31 z\" /></g></svg>"
      ],
      "text/plain": [
       "<shapely.geometry.polygon.Polygon at 0x1301754c0>"
      ]
     },
     "execution_count": 17,
     "metadata": {},
     "output_type": "execute_result"
    }
   ],
   "source": [
    "Polygon([point1, point2, point3])"
   ]
  },
  {
   "cell_type": "code",
   "execution_count": 18,
   "id": "significant-intake",
   "metadata": {},
   "outputs": [],
   "source": [
    "point4 = Point(-1.81, -47.87)"
   ]
  },
  {
   "cell_type": "code",
   "execution_count": 19,
   "id": "smoking-error",
   "metadata": {},
   "outputs": [
    {
     "data": {
      "image/svg+xml": [
       "<svg xmlns=\"http://www.w3.org/2000/svg\" xmlns:xlink=\"http://www.w3.org/1999/xlink\" width=\"100.0\" height=\"128.9844\" viewBox=\"-6.587200000000001 -78.8972 69.0644 128.9844\" preserveAspectRatio=\"xMinYMin meet\"><g transform=\"matrix(1,0,0,-1,0,-28.809999999999995)\"><path fill-rule=\"evenodd\" fill=\"#66cc99\" stroke=\"#555555\" stroke-width=\"2.0\" opacity=\"0.6\" d=\"M 2.04,45.31 L 57.7,1.97 L 40.59,-74.12 L -1.81,-47.87 L 2.04,45.31 z\" /></g></svg>"
      ],
      "text/plain": [
       "<shapely.geometry.polygon.Polygon at 0x130175220>"
      ]
     },
     "execution_count": 19,
     "metadata": {},
     "output_type": "execute_result"
    }
   ],
   "source": [
    "Polygon([point1, point2, point3, point4])"
   ]
  },
  {
   "cell_type": "markdown",
   "id": "meaningful-treasury",
   "metadata": {},
   "source": [
    "## Geometry Collections"
   ]
  },
  {
   "cell_type": "code",
   "execution_count": 28,
   "id": "chicken-sandwich",
   "metadata": {},
   "outputs": [],
   "source": [
    "from shapely.geometry import MultiLineString, MultiPoint, MultiPolygon"
   ]
  },
  {
   "cell_type": "code",
   "execution_count": 21,
   "id": "positive-catalyst",
   "metadata": {},
   "outputs": [
    {
     "data": {
      "image/svg+xml": [
       "<svg xmlns=\"http://www.w3.org/2000/svg\" xmlns:xlink=\"http://www.w3.org/1999/xlink\" width=\"100.0\" height=\"128.9844\" viewBox=\"-6.587200000000001 -78.8972 69.0644 128.9844\" preserveAspectRatio=\"xMinYMin meet\"><g transform=\"matrix(1,0,0,-1,0,-28.809999999999995)\"><g><circle cx=\"2.04\" cy=\"45.31\" r=\"3.0\" stroke=\"#555555\" stroke-width=\"1.0\" fill=\"#66cc99\" opacity=\"0.6\" /><circle cx=\"57.7\" cy=\"1.97\" r=\"3.0\" stroke=\"#555555\" stroke-width=\"1.0\" fill=\"#66cc99\" opacity=\"0.6\" /><circle cx=\"40.59\" cy=\"-74.12\" r=\"3.0\" stroke=\"#555555\" stroke-width=\"1.0\" fill=\"#66cc99\" opacity=\"0.6\" /><circle cx=\"-1.81\" cy=\"-47.87\" r=\"3.0\" stroke=\"#555555\" stroke-width=\"1.0\" fill=\"#66cc99\" opacity=\"0.6\" /></g></g></svg>"
      ],
      "text/plain": [
       "<shapely.geometry.multipoint.MultiPoint at 0x130175b80>"
      ]
     },
     "execution_count": 21,
     "metadata": {},
     "output_type": "execute_result"
    }
   ],
   "source": [
    "MultiPoint([point1, point2, point3, point4])"
   ]
  },
  {
   "cell_type": "code",
   "execution_count": 22,
   "id": "willing-waterproof",
   "metadata": {},
   "outputs": [
    {
     "data": {
      "image/svg+xml": [
       "<svg xmlns=\"http://www.w3.org/2000/svg\" xmlns:xlink=\"http://www.w3.org/1999/xlink\" width=\"100.0\" height=\"128.9844\" viewBox=\"-2.7372000000000005 -78.8972 65.2144 128.9844\" preserveAspectRatio=\"xMinYMin meet\"><g transform=\"matrix(1,0,0,-1,0,-28.809999999999995)\"><g><polyline fill=\"none\" stroke=\"#66cc99\" stroke-width=\"2.0\" points=\"2.04,45.31 57.7,1.97\" opacity=\"0.8\" /><polyline fill=\"none\" stroke=\"#66cc99\" stroke-width=\"2.0\" points=\"2.04,45.31 57.7,1.97 40.59,-74.12\" opacity=\"0.8\" /></g></g></svg>"
      ],
      "text/plain": [
       "<shapely.geometry.multilinestring.MultiLineString at 0x130175d00>"
      ]
     },
     "execution_count": 22,
     "metadata": {},
     "output_type": "execute_result"
    }
   ],
   "source": [
    "MultiLineString([line1, line2])"
   ]
  },
  {
   "cell_type": "code",
   "execution_count": 24,
   "id": "tribal-quantum",
   "metadata": {},
   "outputs": [],
   "source": [
    "polygon1 = Polygon([point1, point2, point3])\n",
    "polygon2 = Polygon([point2, point3, point4])"
   ]
  },
  {
   "cell_type": "code",
   "execution_count": 25,
   "id": "czech-prospect",
   "metadata": {},
   "outputs": [
    {
     "data": {
      "image/svg+xml": [
       "<svg xmlns=\"http://www.w3.org/2000/svg\" xmlns:xlink=\"http://www.w3.org/1999/xlink\" width=\"100.0\" height=\"128.9844\" viewBox=\"-2.7372000000000005 -78.8972 65.2144 128.9844\" preserveAspectRatio=\"xMinYMin meet\"><g transform=\"matrix(1,0,0,-1,0,-28.809999999999995)\"><path fill-rule=\"evenodd\" fill=\"#66cc99\" stroke=\"#555555\" stroke-width=\"2.0\" opacity=\"0.6\" d=\"M 2.04,45.31 L 57.7,1.97 L 40.59,-74.12 L 2.04,45.31 z\" /></g></svg>"
      ],
      "text/plain": [
       "<shapely.geometry.polygon.Polygon at 0x130175340>"
      ]
     },
     "execution_count": 25,
     "metadata": {},
     "output_type": "execute_result"
    }
   ],
   "source": [
    "polygon1"
   ]
  },
  {
   "cell_type": "code",
   "execution_count": 26,
   "id": "authentic-terrorism",
   "metadata": {},
   "outputs": [
    {
     "data": {
      "image/svg+xml": [
       "<svg xmlns=\"http://www.w3.org/2000/svg\" xmlns:xlink=\"http://www.w3.org/1999/xlink\" width=\"100.0\" height=\"100.0\" viewBox=\"-4.8536 -77.1636 65.5972 82.1772\" preserveAspectRatio=\"xMinYMin meet\"><g transform=\"matrix(1,0,0,-1,0,-72.15)\"><path fill-rule=\"evenodd\" fill=\"#66cc99\" stroke=\"#555555\" stroke-width=\"1.643544\" opacity=\"0.6\" d=\"M 57.7,1.97 L 40.59,-74.12 L -1.81,-47.87 L 57.7,1.97 z\" /></g></svg>"
      ],
      "text/plain": [
       "<shapely.geometry.polygon.Polygon at 0x130175b20>"
      ]
     },
     "execution_count": 26,
     "metadata": {},
     "output_type": "execute_result"
    }
   ],
   "source": [
    "polygon2"
   ]
  },
  {
   "cell_type": "code",
   "execution_count": 29,
   "id": "facial-scottish",
   "metadata": {},
   "outputs": [
    {
     "data": {
      "image/svg+xml": [
       "<svg xmlns=\"http://www.w3.org/2000/svg\" xmlns:xlink=\"http://www.w3.org/1999/xlink\" width=\"100.0\" height=\"128.9844\" viewBox=\"-6.587200000000001 -78.8972 69.0644 128.9844\" preserveAspectRatio=\"xMinYMin meet\"><g transform=\"matrix(1,0,0,-1,0,-28.809999999999995)\"><g><path fill-rule=\"evenodd\" fill=\"#ff3333\" stroke=\"#555555\" stroke-width=\"2.0\" opacity=\"0.6\" d=\"M 2.04,45.31 L 57.7,1.97 L 40.59,-74.12 L 2.04,45.31 z\" /><path fill-rule=\"evenodd\" fill=\"#ff3333\" stroke=\"#555555\" stroke-width=\"2.0\" opacity=\"0.6\" d=\"M 57.7,1.97 L 40.59,-74.12 L -1.81,-47.87 L 57.7,1.97 z\" /></g></g></svg>"
      ],
      "text/plain": [
       "<shapely.geometry.multipolygon.MultiPolygon at 0x130175670>"
      ]
     },
     "execution_count": 29,
     "metadata": {},
     "output_type": "execute_result"
    }
   ],
   "source": [
    "MultiPolygon([polygon1, polygon2])"
   ]
  },
  {
   "cell_type": "code",
   "execution_count": 30,
   "id": "molecular-location",
   "metadata": {},
   "outputs": [
    {
     "data": {
      "text/plain": [
       "shapely.geometry.multipolygon.MultiPolygon"
      ]
     },
     "execution_count": 30,
     "metadata": {},
     "output_type": "execute_result"
    }
   ],
   "source": [
    "type(MultiPolygon([polygon1, polygon2]))"
   ]
  },
  {
   "cell_type": "code",
   "execution_count": 31,
   "id": "handed-radiation",
   "metadata": {},
   "outputs": [
    {
     "data": {
      "text/plain": [
       "shapely.geometry.point.Point"
      ]
     },
     "execution_count": 31,
     "metadata": {},
     "output_type": "execute_result"
    }
   ],
   "source": [
    "type(point1)"
   ]
  }
 ],
 "metadata": {
  "kernelspec": {
   "display_name": "Python 3",
   "language": "python",
   "name": "python3"
  },
  "language_info": {
   "codemirror_mode": {
    "name": "ipython",
    "version": 3
   },
   "file_extension": ".py",
   "mimetype": "text/x-python",
   "name": "python",
   "nbconvert_exporter": "python",
   "pygments_lexer": "ipython3",
   "version": "3.8.5"
  }
 },
 "nbformat": 4,
 "nbformat_minor": 5
}
