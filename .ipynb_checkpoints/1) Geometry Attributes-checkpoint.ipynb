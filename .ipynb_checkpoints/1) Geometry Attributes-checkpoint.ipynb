{
 "cells": [
  {
   "cell_type": "markdown",
   "id": "structured-colorado",
   "metadata": {},
   "source": [
    "# 1. Geometry Attributes"
   ]
  },
  {
   "cell_type": "markdown",
   "id": "regulation-barbados",
   "metadata": {},
   "source": [
    "## 1.1 Points"
   ]
  },
  {
   "cell_type": "code",
   "execution_count": 1,
   "id": "photographic-tulsa",
   "metadata": {},
   "outputs": [],
   "source": [
    "# import geometries\n",
    "from shapely.geometry import Point, Polygon, LineString"
   ]
  },
  {
   "cell_type": "code",
   "execution_count": 2,
   "id": "norwegian-tenant",
   "metadata": {},
   "outputs": [],
   "source": [
    "# create points\n",
    "point1 = Point(2.04, 45.31)\n",
    "point2 = Point(57.70, 1.97)\n",
    "point3 = Point(40.59, -74.12)\n",
    "point4 = Point(-1.81, -47.87)"
   ]
  },
  {
   "cell_type": "code",
   "execution_count": 3,
   "id": "smaller-burden",
   "metadata": {},
   "outputs": [
    {
     "data": {
      "image/svg+xml": [
       "<svg xmlns=\"http://www.w3.org/2000/svg\" xmlns:xlink=\"http://www.w3.org/1999/xlink\" width=\"100.0\" height=\"100.0\" viewBox=\"56.7 0.97 2.0 1.9999999999999998\" preserveAspectRatio=\"xMinYMin meet\"><g transform=\"matrix(1,0,0,-1,0,3.9399999999999995)\"><circle cx=\"57.7\" cy=\"1.97\" r=\"0.06\" stroke=\"#555555\" stroke-width=\"0.02\" fill=\"#66cc99\" opacity=\"0.6\" /></g></svg>"
      ],
      "text/plain": [
       "<shapely.geometry.point.Point at 0x10a0e0f10>"
      ]
     },
     "execution_count": 3,
     "metadata": {},
     "output_type": "execute_result"
    }
   ],
   "source": [
    "point2"
   ]
  },
  {
   "cell_type": "code",
   "execution_count": 11,
   "id": "frequent-clothing",
   "metadata": {},
   "outputs": [
    {
     "name": "stdout",
     "output_type": "stream",
     "text": [
      "(array('d', [2.04]), array('d', [45.31]))\n",
      "2.04\n",
      "45.31\n"
     ]
    }
   ],
   "source": [
    "## the x, y coordinates (latitude, longitude)\n",
    "\n",
    "print(point1.coords.xy)\n",
    "print(point1.x)\n",
    "print(point1.y)"
   ]
  },
  {
   "cell_type": "code",
   "execution_count": 12,
   "id": "vertical-latitude",
   "metadata": {},
   "outputs": [
    {
     "name": "stdout",
     "output_type": "stream",
     "text": [
      "0.0\n"
     ]
    }
   ],
   "source": [
    "# a point has no length\n",
    "\n",
    "print(point1.length)"
   ]
  },
  {
   "cell_type": "code",
   "execution_count": 13,
   "id": "careful-heart",
   "metadata": {},
   "outputs": [
    {
     "name": "stdout",
     "output_type": "stream",
     "text": [
      "0.0\n"
     ]
    }
   ],
   "source": [
    "# points have no area\n",
    "\n",
    "print(point1.area)"
   ]
  },
  {
   "cell_type": "code",
   "execution_count": 14,
   "id": "circular-contractor",
   "metadata": {},
   "outputs": [
    {
     "name": "stdout",
     "output_type": "stream",
     "text": [
      "(2.04, 45.31, 2.04, 45.31)\n"
     ]
    }
   ],
   "source": [
    "# a point has a x-y bounding box (min x, min y, max x, max y) tuple\n",
    "\n",
    "print(point1.bounds)"
   ]
  },
  {
   "cell_type": "markdown",
   "id": "catholic-colombia",
   "metadata": {},
   "source": [
    "## 1.2 LineString"
   ]
  },
  {
   "cell_type": "code",
   "execution_count": 17,
   "id": "premium-election",
   "metadata": {},
   "outputs": [
    {
     "data": {
      "image/svg+xml": [
       "<svg xmlns=\"http://www.w3.org/2000/svg\" xmlns:xlink=\"http://www.w3.org/1999/xlink\" width=\"100.0\" height=\"128.9844\" viewBox=\"-2.7372000000000005 -78.8972 65.2144 128.9844\" preserveAspectRatio=\"xMinYMin meet\"><g transform=\"matrix(1,0,0,-1,0,-28.809999999999995)\"><polyline fill=\"none\" stroke=\"#66cc99\" stroke-width=\"2.0\" points=\"2.04,45.31 57.7,1.97 40.59,-74.12\" opacity=\"0.8\" /></g></svg>"
      ],
      "text/plain": [
       "<shapely.geometry.linestring.LineString at 0x10a1a6460>"
      ]
     },
     "execution_count": 17,
     "metadata": {},
     "output_type": "execute_result"
    }
   ],
   "source": [
    "# create LineString\n",
    "\n",
    "line = LineString([point1, point2, point3])\n",
    "line"
   ]
  },
  {
   "cell_type": "code",
   "execution_count": 18,
   "id": "every-adrian",
   "metadata": {},
   "outputs": [
    {
     "name": "stdout",
     "output_type": "stream",
     "text": [
      "(array('d', [2.04, 57.7, 40.59]), array('d', [45.31, 1.97, -74.12]))\n"
     ]
    }
   ],
   "source": [
    "# coordinates\n",
    "\n",
    "print(line.coords.xy)"
   ]
  },
  {
   "cell_type": "code",
   "execution_count": 19,
   "id": "public-subdivision",
   "metadata": {},
   "outputs": [
    {
     "data": {
      "text/plain": [
       "array('d', [2.04, 57.7, 40.59])"
      ]
     },
     "execution_count": 19,
     "metadata": {},
     "output_type": "execute_result"
    }
   ],
   "source": [
    "# x coordinates (latitudes)\n",
    "\n",
    "line.xy[0]"
   ]
  },
  {
   "cell_type": "code",
   "execution_count": 20,
   "id": "german-pottery",
   "metadata": {},
   "outputs": [
    {
     "data": {
      "text/plain": [
       "array('d', [45.31, 1.97, -74.12])"
      ]
     },
     "execution_count": 20,
     "metadata": {},
     "output_type": "execute_result"
    }
   ],
   "source": [
    "# y coordinates (longitudes)\n",
    "\n",
    "line.xy[1]"
   ]
  },
  {
   "cell_type": "code",
   "execution_count": 21,
   "id": "hispanic-pollution",
   "metadata": {},
   "outputs": [
    {
     "name": "stdout",
     "output_type": "stream",
     "text": [
      "148.53354180541288\n"
     ]
    }
   ],
   "source": [
    "# a line has a length\n",
    "\n",
    "print(line.length)"
   ]
  },
  {
   "cell_type": "code",
   "execution_count": 22,
   "id": "sufficient-situation",
   "metadata": {},
   "outputs": [
    {
     "name": "stdout",
     "output_type": "stream",
     "text": [
      "0.0\n"
     ]
    }
   ],
   "source": [
    "# a line has no area\n",
    "\n",
    "print(line.area)"
   ]
  },
  {
   "cell_type": "code",
   "execution_count": 25,
   "id": "intensive-hypothesis",
   "metadata": {},
   "outputs": [
    {
     "name": "stdout",
     "output_type": "stream",
     "text": [
      "POINT (39.9906585669835 -7.714351560436813)\n"
     ]
    },
    {
     "data": {
      "image/svg+xml": [
       "<svg xmlns=\"http://www.w3.org/2000/svg\" xmlns:xlink=\"http://www.w3.org/1999/xlink\" width=\"100.0\" height=\"100.0\" viewBox=\"38.9906585669835 -8.714351560436814 2.0 2.000000000000001\" preserveAspectRatio=\"xMinYMin meet\"><g transform=\"matrix(1,0,0,-1,0,-15.428703120873628)\"><circle cx=\"39.9906585669835\" cy=\"-7.714351560436813\" r=\"0.060000000000000026\" stroke=\"#555555\" stroke-width=\"0.020000000000000007\" fill=\"#66cc99\" opacity=\"0.6\" /></g></svg>"
      ],
      "text/plain": [
       "<shapely.geometry.point.Point at 0x10a1a6970>"
      ]
     },
     "execution_count": 25,
     "metadata": {},
     "output_type": "execute_result"
    }
   ],
   "source": [
    "# centroid\n",
    "\n",
    "print(line.centroid)\n",
    "\n",
    "line.centroid"
   ]
  },
  {
   "cell_type": "markdown",
   "id": "careful-apparatus",
   "metadata": {},
   "source": [
    "## 1.3 Polygons"
   ]
  },
  {
   "cell_type": "code",
   "execution_count": 26,
   "id": "interstate-organ",
   "metadata": {},
   "outputs": [],
   "source": [
    "# creating polygons\n",
    "\n",
    "polygon = Polygon([point1, point2, point3, point4])"
   ]
  },
  {
   "cell_type": "code",
   "execution_count": 27,
   "id": "incoming-disclaimer",
   "metadata": {},
   "outputs": [
    {
     "data": {
      "image/svg+xml": [
       "<svg xmlns=\"http://www.w3.org/2000/svg\" xmlns:xlink=\"http://www.w3.org/1999/xlink\" width=\"100.0\" height=\"128.9844\" viewBox=\"-6.587200000000001 -78.8972 69.0644 128.9844\" preserveAspectRatio=\"xMinYMin meet\"><g transform=\"matrix(1,0,0,-1,0,-28.809999999999995)\"><path fill-rule=\"evenodd\" fill=\"#66cc99\" stroke=\"#555555\" stroke-width=\"2.0\" opacity=\"0.6\" d=\"M 2.04,45.31 L 57.7,1.97 L 40.59,-74.12 L -1.81,-47.87 L 2.04,45.31 z\" /></g></svg>"
      ],
      "text/plain": [
       "<shapely.geometry.polygon.Polygon at 0x10a0e0c40>"
      ]
     },
     "execution_count": 27,
     "metadata": {},
     "output_type": "execute_result"
    }
   ],
   "source": [
    "polygon"
   ]
  },
  {
   "cell_type": "code",
   "execution_count": 35,
   "id": "rough-market",
   "metadata": {},
   "outputs": [
    {
     "name": "stdout",
     "output_type": "stream",
     "text": [
      "[(2.04, 45.31), (57.7, 1.97), (40.59, -74.12), (-1.81, -47.87), (2.04, 45.31)]\n"
     ]
    },
    {
     "data": {
      "image/svg+xml": [
       "<svg xmlns=\"http://www.w3.org/2000/svg\" xmlns:xlink=\"http://www.w3.org/1999/xlink\" width=\"100.0\" height=\"128.9844\" viewBox=\"-6.587200000000001 -78.8972 69.0644 128.9844\" preserveAspectRatio=\"xMinYMin meet\"><g transform=\"matrix(1,0,0,-1,0,-28.809999999999995)\"><polyline fill=\"none\" stroke=\"#66cc99\" stroke-width=\"2.0\" points=\"2.04,45.31 57.7,1.97 40.59,-74.12 -1.81,-47.87 2.04,45.31\" opacity=\"0.8\" /></g></svg>"
      ],
      "text/plain": [
       "<shapely.geometry.polygon.LinearRing at 0x10a1a6cd0>"
      ]
     },
     "execution_count": 35,
     "metadata": {},
     "output_type": "execute_result"
    }
   ],
   "source": [
    "# polygons do not have coordinates, but you can get the exterior\n",
    "\n",
    "print(list(polygon.exterior.coords))\n",
    "polygon.exterior"
   ]
  },
  {
   "cell_type": "code",
   "execution_count": 36,
   "id": "extraordinary-modeling",
   "metadata": {},
   "outputs": [
    {
     "name": "stdout",
     "output_type": "stream",
     "text": [
      "(-1.81, -74.12, 57.7, 45.31)\n"
     ]
    }
   ],
   "source": [
    "# bounds\n",
    "\n",
    "print(polygon.bounds)"
   ]
  },
  {
   "cell_type": "code",
   "execution_count": 37,
   "id": "metallic-petersburg",
   "metadata": {},
   "outputs": [
    {
     "data": {
      "text/plain": [
       "4514.30565"
      ]
     },
     "execution_count": 37,
     "metadata": {},
     "output_type": "execute_result"
    }
   ],
   "source": [
    "# area of polygon (in degrees - unit of measurement depends on the projection)\n",
    "\n",
    "polygon.area"
   ]
  },
  {
   "cell_type": "code",
   "execution_count": 38,
   "id": "fifteen-elizabeth",
   "metadata": {},
   "outputs": [
    {
     "data": {
      "text/plain": [
       "291.6610957007827"
      ]
     },
     "execution_count": 38,
     "metadata": {},
     "output_type": "execute_result"
    }
   ],
   "source": [
    "# length\n",
    "\n",
    "polygon.length"
   ]
  }
 ],
 "metadata": {
  "kernelspec": {
   "display_name": "Python 3",
   "language": "python",
   "name": "python3"
  },
  "language_info": {
   "codemirror_mode": {
    "name": "ipython",
    "version": 3
   },
   "file_extension": ".py",
   "mimetype": "text/x-python",
   "name": "python",
   "nbconvert_exporter": "python",
   "pygments_lexer": "ipython3",
   "version": "3.8.5"
  }
 },
 "nbformat": 4,
 "nbformat_minor": 5
}
