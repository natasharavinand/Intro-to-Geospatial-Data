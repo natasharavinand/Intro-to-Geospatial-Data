{
 "cells": [
  {
   "cell_type": "markdown",
   "id": "valuable-influence",
   "metadata": {},
   "source": [
    "# 4) Intro to Shapely and Fiona"
   ]
  },
  {
   "cell_type": "code",
   "execution_count": 1,
   "id": "ceramic-diversity",
   "metadata": {},
   "outputs": [],
   "source": [
    "import csv\n",
    "import fiona\n",
    "from shapely.geometry import Point, Polygon, mapping\n",
    "from collections import OrderedDict"
   ]
  },
  {
   "cell_type": "markdown",
   "id": "deadly-tulsa",
   "metadata": {},
   "source": [
    "## Reading in Data"
   ]
  },
  {
   "cell_type": "code",
   "execution_count": 8,
   "id": "characteristic-staff",
   "metadata": {},
   "outputs": [
    {
     "name": "stdout",
     "output_type": "stream",
     "text": [
      "['Country', 'City', 'Population', 'Latitude', 'Longitude']\n",
      "['cn', 'shanghai', '14608512', '31.045556', '121.399722']\n",
      "['br', 'sao paulo', '10021437', '-23.473293', '-46.665803']\n",
      "['cd', 'kinshasa', '7787832', '-4.3', '15.3']\n",
      "['eg', 'cairo', '7734602', '30.05', '31.25']\n",
      "['cn', 'peking', '7480601', '39.928889', '116.388333']\n",
      "['gb', 'london', '7421228', '51.514125', '-0.093689']\n",
      "['co', 'bogota', '7102602', '4.649178', '-74.062827']\n",
      "['bd', 'dhaka', '6493177', '23.7230556', '90.4086111']\n",
      "['br', 'rio de janeiro', '6023742', '-22.9', '-43.233333']\n",
      "['cl', 'santiago', '4837248', '-33.45', '-70.666667']\n",
      "['ca', 'toronto', '4612187', '43.666667', '-79.416667']\n",
      "['au', 'sydney', '4394585', '-33.861481', '151.205475']\n",
      "['cn', 'wuhan', '4184206', '30.580125', '114.273405']\n",
      "['cn', 'chongqing', '3967028', '29.562778', '106.552778']\n",
      "['eg', ' alexandria', '3811512', '31.1980556', '29.9191667']\n",
      "['eg', 'cairo', '7734602', '30.05', '31.25']\n"
     ]
    }
   ],
   "source": [
    "with open('data/cities_population.csv') as reader:\n",
    "    text = csv.reader(reader)\n",
    "    for row in text:\n",
    "        print(row)"
   ]
  },
  {
   "cell_type": "code",
   "execution_count": 9,
   "id": "handed-arctic",
   "metadata": {},
   "outputs": [
    {
     "name": "stdout",
     "output_type": "stream",
     "text": [
      "{'Country': 'cn', 'City': 'shanghai', 'Population': '14608512', 'Latitude': '31.045556', 'Longitude': '121.399722'}\n",
      "{'Country': 'br', 'City': 'sao paulo', 'Population': '10021437', 'Latitude': '-23.473293', 'Longitude': '-46.665803'}\n",
      "{'Country': 'cd', 'City': 'kinshasa', 'Population': '7787832', 'Latitude': '-4.3', 'Longitude': '15.3'}\n",
      "{'Country': 'eg', 'City': 'cairo', 'Population': '7734602', 'Latitude': '30.05', 'Longitude': '31.25'}\n",
      "{'Country': 'cn', 'City': 'peking', 'Population': '7480601', 'Latitude': '39.928889', 'Longitude': '116.388333'}\n",
      "{'Country': 'gb', 'City': 'london', 'Population': '7421228', 'Latitude': '51.514125', 'Longitude': '-0.093689'}\n",
      "{'Country': 'co', 'City': 'bogota', 'Population': '7102602', 'Latitude': '4.649178', 'Longitude': '-74.062827'}\n",
      "{'Country': 'bd', 'City': 'dhaka', 'Population': '6493177', 'Latitude': '23.7230556', 'Longitude': '90.4086111'}\n",
      "{'Country': 'br', 'City': 'rio de janeiro', 'Population': '6023742', 'Latitude': '-22.9', 'Longitude': '-43.233333'}\n",
      "{'Country': 'cl', 'City': 'santiago', 'Population': '4837248', 'Latitude': '-33.45', 'Longitude': '-70.666667'}\n",
      "{'Country': 'ca', 'City': 'toronto', 'Population': '4612187', 'Latitude': '43.666667', 'Longitude': '-79.416667'}\n",
      "{'Country': 'au', 'City': 'sydney', 'Population': '4394585', 'Latitude': '-33.861481', 'Longitude': '151.205475'}\n",
      "{'Country': 'cn', 'City': 'wuhan', 'Population': '4184206', 'Latitude': '30.580125', 'Longitude': '114.273405'}\n",
      "{'Country': 'cn', 'City': 'chongqing', 'Population': '3967028', 'Latitude': '29.562778', 'Longitude': '106.552778'}\n",
      "{'Country': 'eg', 'City': ' alexandria', 'Population': '3811512', 'Latitude': '31.1980556', 'Longitude': '29.9191667'}\n",
      "{'Country': 'eg', 'City': 'cairo', 'Population': '7734602', 'Latitude': '30.05', 'Longitude': '31.25'}\n"
     ]
    }
   ],
   "source": [
    "with open('data/cities_population.csv') as reader:\n",
    "    text = csv.DictReader(reader)\n",
    "    for row in text:\n",
    "        print(row)"
   ]
  },
  {
   "cell_type": "code",
   "execution_count": 12,
   "id": "incomplete-hurricane",
   "metadata": {},
   "outputs": [
    {
     "name": "stdout",
     "output_type": "stream",
     "text": [
      "POINT (31.045556 121.399722)\n",
      "POINT (-23.473293 -46.665803)\n",
      "POINT (-4.3 15.3)\n",
      "POINT (30.05 31.25)\n",
      "POINT (39.928889 116.388333)\n",
      "POINT (51.514125 -0.09368899999999999)\n",
      "POINT (4.649178 -74.062827)\n",
      "POINT (23.7230556 90.4086111)\n",
      "POINT (-22.9 -43.233333)\n",
      "POINT (-33.45 -70.666667)\n",
      "POINT (43.666667 -79.416667)\n",
      "POINT (-33.861481 151.205475)\n",
      "POINT (30.580125 114.273405)\n",
      "POINT (29.562778 106.552778)\n",
      "POINT (31.1980556 29.9191667)\n",
      "POINT (30.05 31.25)\n"
     ]
    }
   ],
   "source": [
    "with open('data/cities_population.csv') as reader:\n",
    "    text = csv.DictReader(reader)\n",
    "    for row in text:\n",
    "        print(Point(float(row['Latitude']), float(row['Longitude'])))"
   ]
  },
  {
   "cell_type": "code",
   "execution_count": 13,
   "id": "attempted-mexico",
   "metadata": {},
   "outputs": [
    {
     "name": "stdout",
     "output_type": "stream",
     "text": [
      "shanghai 14608512\n",
      "sao paulo 10021437\n",
      "kinshasa 7787832\n",
      "cairo 7734602\n",
      "peking 7480601\n",
      "london 7421228\n",
      "bogota 7102602\n",
      "dhaka 6493177\n",
      "rio de janeiro 6023742\n",
      "santiago 4837248\n",
      "toronto 4612187\n",
      "sydney 4394585\n",
      "wuhan 4184206\n",
      "chongqing 3967028\n",
      " alexandria 3811512\n",
      "cairo 7734602\n"
     ]
    }
   ],
   "source": [
    "with open('data/cities_population.csv') as reader:\n",
    "    text = csv.DictReader(reader)\n",
    "    for row in text:\n",
    "        print(row['City'], row['Population'])"
   ]
  },
  {
   "cell_type": "markdown",
   "id": "proved-assembly",
   "metadata": {},
   "source": [
    "## Writing Points to Shapefile and GeoJSON"
   ]
  },
  {
   "cell_type": "markdown",
   "id": "incorrect-disposition",
   "metadata": {},
   "source": [
    "Shapefile schema previously looked like this (so we can follow the same conventions):\n",
    "\n",
    "      {'properties': \n",
    "\n",
    "        OrderedDict(\n",
    "            [('pop_est', 'int:18'),\n",
    "              ('continent', 'str:80'),\n",
    "              ('name', 'str:80'),\n",
    "              ('iso_a3', 'str:80'),\n",
    "              ('gdp_md_est', 'float:24.15')]\n",
    "              ),\n",
    "              \n",
    "             'geometry': 'Polygon'}"
   ]
  },
  {
   "cell_type": "code",
   "execution_count": 14,
   "id": "phantom-ebony",
   "metadata": {},
   "outputs": [
    {
     "data": {
      "text/plain": [
       "{'geometry': 'Point',\n",
       " 'properties': OrderedDict([('Country', 'str'),\n",
       "              ('City', 'str'),\n",
       "              ('Population', 'int'),\n",
       "              ('Latitude', 'float'),\n",
       "              ('Longitude', 'float')])}"
      ]
     },
     "execution_count": 14,
     "metadata": {},
     "output_type": "execute_result"
    }
   ],
   "source": [
    "# prepare schema\n",
    "\n",
    "schema = {\n",
    "    'geometry':'Point',\n",
    "    'properties': OrderedDict([('Country', 'str'),\n",
    "              ('City', 'str'),\n",
    "              ('Population', 'int'),\n",
    "              ('Latitude', 'float'),\n",
    "              ('Longitude', 'float')])\n",
    "}\n",
    "\n",
    "schema"
   ]
  },
  {
   "cell_type": "code",
   "execution_count": 22,
   "id": "virtual-print",
   "metadata": {},
   "outputs": [],
   "source": [
    "# write the Shapefile\n",
    "\n",
    "with fiona.open('output/cities_ge.shp', 'w', driver='ESRI Shapefile', crs={'init':'epsg:4326'}, schema=schema) as file:\n",
    "    reader = csv.DictReader(open('data/cities_population.csv'))\n",
    "    for row in reader:\n",
    "        point = Point(float(row['Latitude']), float(row['Longitude']))\n",
    "        properties = {\n",
    "            'Country':row['Country'],\n",
    "            'City':row['City'],\n",
    "            'Population':row['Population'],\n",
    "            'Latitude':row['Latitude'],\n",
    "            'Longitude':row['Longitude']\n",
    "        }\n",
    "        \n",
    "        file.write({\"geometry\":mapping(point), # maps latitude and longitude into point gemoetry\n",
    "                 \"properties\":properties}) "
   ]
  },
  {
   "cell_type": "code",
   "execution_count": 23,
   "id": "foster-alias",
   "metadata": {},
   "outputs": [],
   "source": [
    "# write the GeoJSON\n",
    "\n",
    "with fiona.open('output/cities_ge.geojson', 'w', driver='GeoJSON', crs={'init':'epsg:4326'}, schema=schema) as file:\n",
    "    reader = csv.DictReader(open('data/cities_population.csv'))\n",
    "    for row in reader:\n",
    "        point = Point(float(row['Latitude']), float(row['Longitude']))\n",
    "        properties = {\n",
    "            'Country':row['Country'],\n",
    "            'City':row['City'],\n",
    "            'Population':row['Population'],\n",
    "            'Latitude':row['Latitude'],\n",
    "            'Longitude':row['Longitude']\n",
    "        }\n",
    "        \n",
    "        file.write({\"geometry\":mapping(point), # maps latitude and longitude into point gemoetry\n",
    "                 \"properties\":properties}) "
   ]
  },
  {
   "cell_type": "markdown",
   "id": "previous-shock",
   "metadata": {},
   "source": [
    "## Writing Polygons"
   ]
  },
  {
   "cell_type": "code",
   "execution_count": 24,
   "id": "confused-newsletter",
   "metadata": {},
   "outputs": [],
   "source": [
    "fiji_coordinates = [(180.0, -16.067132663642447),\n",
    "     (180.0, -16.555216566639196),\n",
    "     (179.36414266196414, -16.801354076946883),\n",
    "     (178.72505936299711, -17.01204167436804),\n",
    "     (178.59683859511713, -16.639150000000004),\n",
    "     (179.0966093629971, -16.433984277547403),\n",
    "     (179.4135093629971, -16.379054277547404),\n",
    "     (180.0, -16.067132663642447), (178.12557, -17.50481),\n",
    "     (178.3736, -17.33992), (178.71806, -17.62846),\n",
    "     (178.55271, -18.15059), (177.93266000000003, -18.28799),\n",
    "     (177.38146, -18.16432), (177.28504, -17.72465),\n",
    "     (177.67087, -17.381140000000002), (178.12557, -17.50481),\n",
    "     (-179.79332010904864, -16.020882256741224), (-179.9173693847653, -16.501783135649397),\n",
    "     (-180.0, -16.555216566639196), (-180.0, -16.067132663642447),\n",
    "     (-179.79332010904864, -16.020882256741224)]"
   ]
  },
  {
   "cell_type": "code",
   "execution_count": 28,
   "id": "designed-indonesia",
   "metadata": {},
   "outputs": [
    {
     "data": {
      "text/plain": [
       "{'geometry': 'Polygon', 'properties': {'name': 'str'}}"
      ]
     },
     "execution_count": 28,
     "metadata": {},
     "output_type": "execute_result"
    }
   ],
   "source": [
    "fiji_schema = {\n",
    "    'geometry':'Polygon',\n",
    "    'properties': {'name':'str'}\n",
    "}\n",
    "\n",
    "fiji_schema"
   ]
  },
  {
   "cell_type": "code",
   "execution_count": 29,
   "id": "personal-mexico",
   "metadata": {},
   "outputs": [],
   "source": [
    "# write the GeoJSON\n",
    "\n",
    "with fiona.open('output/fiji.geojson', 'w', driver='GeoJSON', crs={'init':'epsg:4326'}, schema=fiji_schema) as file:\n",
    "    file.write({\n",
    "        \"geometry\":mapping(Polygon(fiji_coordinates)),\n",
    "        \"properties\":{\"name\":\"Fiji\"}\n",
    "    })"
   ]
  }
 ],
 "metadata": {
  "kernelspec": {
   "display_name": "Python 3",
   "language": "python",
   "name": "python3"
  },
  "language_info": {
   "codemirror_mode": {
    "name": "ipython",
    "version": 3
   },
   "file_extension": ".py",
   "mimetype": "text/x-python",
   "name": "python",
   "nbconvert_exporter": "python",
   "pygments_lexer": "ipython3",
   "version": "3.8.5"
  }
 },
 "nbformat": 4,
 "nbformat_minor": 5
}
